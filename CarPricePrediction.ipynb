{
 "cells": [
  {
   "cell_type": "markdown",
   "metadata": {},
   "source": [
    "# Cars Price Prediction and eploratory Analysis\n",
    "Import required libraries and functions"
   ]
  },
  {
   "cell_type": "code",
   "execution_count": 23,
   "metadata": {
    "collapsed": true
   },
   "outputs": [],
   "source": [
    "import pandas as pd\n",
    "import numpy as np\n",
    "import matplotlib.pyplot as plt\n",
    "import seaborn as sns\n",
    "from sklearn.feature_extraction import FeatureHasher\n",
    "from sklearn.model_selection import train_test_split\n",
    "from sklearn.linear_model import LinearRegression\n",
    "from sklearn.metrics import accuracy_score, mean_squared_error, r2_score\n",
    "%matplotlib inline"
   ]
  },
  {
   "cell_type": "markdown",
   "metadata": {},
   "source": [
    "- Reading through Pandas dataframe"
   ]
  },
  {
   "cell_type": "code",
   "execution_count": 10,
   "metadata": {
    "collapsed": true
   },
   "outputs": [],
   "source": [
    "dframe = pd.read_excel(\"cars_dataset.xlsx\")"
   ]
  },
  {
   "cell_type": "code",
   "execution_count": 11,
   "metadata": {},
   "outputs": [
    {
     "data": {
      "text/html": [
       "<div>\n",
       "<style>\n",
       "    .dataframe thead tr:only-child th {\n",
       "        text-align: right;\n",
       "    }\n",
       "\n",
       "    .dataframe thead th {\n",
       "        text-align: left;\n",
       "    }\n",
       "\n",
       "    .dataframe tbody tr th {\n",
       "        vertical-align: top;\n",
       "    }\n",
       "</style>\n",
       "<table border=\"1\" class=\"dataframe\">\n",
       "  <thead>\n",
       "    <tr style=\"text-align: right;\">\n",
       "      <th></th>\n",
       "      <th>dataset__entity__entity_ticker__ticker__ticker</th>\n",
       "      <th>dataset__entity__name</th>\n",
       "      <th>url</th>\n",
       "      <th>as_of_date</th>\n",
       "      <th>domain</th>\n",
       "      <th>date_added</th>\n",
       "      <th>price</th>\n",
       "      <th>price_currency</th>\n",
       "      <th>image</th>\n",
       "      <th>vehicle_identification_number</th>\n",
       "      <th>...</th>\n",
       "      <th>model</th>\n",
       "      <th>mileage</th>\n",
       "      <th>region</th>\n",
       "      <th>stock_type</th>\n",
       "      <th>location_url</th>\n",
       "      <th>location_name</th>\n",
       "      <th>location_city</th>\n",
       "      <th>location_postal</th>\n",
       "      <th>dataset__entity__entity_ticker__ticker__market_sector</th>\n",
       "      <th>dataset__entity__entity_ticker__ticker__market_industry</th>\n",
       "    </tr>\n",
       "  </thead>\n",
       "  <tbody>\n",
       "    <tr>\n",
       "      <th>0</th>\n",
       "      <td>nyse:kmx</td>\n",
       "      <td>www.carmax.com</td>\n",
       "      <td>http://www.carmax.com/enus/view-car/default.ht...</td>\n",
       "      <td>2015-10-05 04:00:00+00</td>\n",
       "      <td>www.carmax.com</td>\n",
       "      <td>2015-10-06 00:08:10.173641+00</td>\n",
       "      <td>21599</td>\n",
       "      <td>USD</td>\n",
       "      <td>http://img2.carmax.com/image/12346985/216/162</td>\n",
       "      <td>NaN</td>\n",
       "      <td>...</td>\n",
       "      <td>TSX</td>\n",
       "      <td>16000</td>\n",
       "      <td>Columbia, SC</td>\n",
       "      <td>NaN</td>\n",
       "      <td>NaN</td>\n",
       "      <td>NaN</td>\n",
       "      <td>NaN</td>\n",
       "      <td>NaN</td>\n",
       "      <td>Consumer Services</td>\n",
       "      <td>General Retailers</td>\n",
       "    </tr>\n",
       "    <tr>\n",
       "      <th>1</th>\n",
       "      <td>nyse:kmx</td>\n",
       "      <td>www.carmax.com</td>\n",
       "      <td>http://www.carmax.com/enus/view-car/default.ht...</td>\n",
       "      <td>2015-10-05 04:00:00+00</td>\n",
       "      <td>www.carmax.com</td>\n",
       "      <td>2015-10-06 00:16:02.818833+00</td>\n",
       "      <td>14599</td>\n",
       "      <td>USD</td>\n",
       "      <td>http://img2.carmax.com/image/12377212/216/162</td>\n",
       "      <td>NaN</td>\n",
       "      <td>...</td>\n",
       "      <td>Dart SE</td>\n",
       "      <td>18000</td>\n",
       "      <td>Los Angeles, CA</td>\n",
       "      <td>NaN</td>\n",
       "      <td>NaN</td>\n",
       "      <td>NaN</td>\n",
       "      <td>NaN</td>\n",
       "      <td>NaN</td>\n",
       "      <td>Consumer Services</td>\n",
       "      <td>General Retailers</td>\n",
       "    </tr>\n",
       "    <tr>\n",
       "      <th>2</th>\n",
       "      <td>nyse:kmx</td>\n",
       "      <td>www.carmax.com</td>\n",
       "      <td>http://www.carmax.com/enus/view-car/default.ht...</td>\n",
       "      <td>2015-10-05 04:00:00+00</td>\n",
       "      <td>www.carmax.com</td>\n",
       "      <td>2015-10-06 00:08:10.183941+00</td>\n",
       "      <td>33998</td>\n",
       "      <td>USD</td>\n",
       "      <td>http://img2.carmax.com/image/12141829/216/162</td>\n",
       "      <td>NaN</td>\n",
       "      <td>...</td>\n",
       "      <td>FJ Cruiser</td>\n",
       "      <td>18000</td>\n",
       "      <td>Houston, TX</td>\n",
       "      <td>NaN</td>\n",
       "      <td>NaN</td>\n",
       "      <td>NaN</td>\n",
       "      <td>NaN</td>\n",
       "      <td>NaN</td>\n",
       "      <td>Consumer Services</td>\n",
       "      <td>General Retailers</td>\n",
       "    </tr>\n",
       "    <tr>\n",
       "      <th>3</th>\n",
       "      <td>nyse:kmx</td>\n",
       "      <td>www.carmax.com</td>\n",
       "      <td>http://www.carmax.com/enus/view-car/default.ht...</td>\n",
       "      <td>2015-10-05 04:00:00+00</td>\n",
       "      <td>www.carmax.com</td>\n",
       "      <td>2015-10-06 00:16:02.822888+00</td>\n",
       "      <td>19599</td>\n",
       "      <td>USD</td>\n",
       "      <td>http://img2.carmax.com/image/12271909/216/162</td>\n",
       "      <td>NaN</td>\n",
       "      <td>...</td>\n",
       "      <td>Camry SE</td>\n",
       "      <td>5000</td>\n",
       "      <td>Tinley Park, IL</td>\n",
       "      <td>NaN</td>\n",
       "      <td>NaN</td>\n",
       "      <td>NaN</td>\n",
       "      <td>NaN</td>\n",
       "      <td>NaN</td>\n",
       "      <td>Consumer Services</td>\n",
       "      <td>General Retailers</td>\n",
       "    </tr>\n",
       "    <tr>\n",
       "      <th>4</th>\n",
       "      <td>nyse:kmx</td>\n",
       "      <td>www.carmax.com</td>\n",
       "      <td>http://www.carmax.com/enus/view-car/default.ht...</td>\n",
       "      <td>2015-10-05 04:00:00+00</td>\n",
       "      <td>www.carmax.com</td>\n",
       "      <td>2015-10-06 00:08:10.194298+00</td>\n",
       "      <td>14998</td>\n",
       "      <td>USD</td>\n",
       "      <td>http://img2.carmax.com/image/11951142/216/162</td>\n",
       "      <td>NaN</td>\n",
       "      <td>...</td>\n",
       "      <td>Accord EX-L</td>\n",
       "      <td>56000</td>\n",
       "      <td>Hillside, IL</td>\n",
       "      <td>NaN</td>\n",
       "      <td>NaN</td>\n",
       "      <td>NaN</td>\n",
       "      <td>NaN</td>\n",
       "      <td>NaN</td>\n",
       "      <td>Consumer Services</td>\n",
       "      <td>General Retailers</td>\n",
       "    </tr>\n",
       "  </tbody>\n",
       "</table>\n",
       "<p>5 rows × 22 columns</p>\n",
       "</div>"
      ],
      "text/plain": [
       "  dataset__entity__entity_ticker__ticker__ticker dataset__entity__name  \\\n",
       "0                                       nyse:kmx        www.carmax.com   \n",
       "1                                       nyse:kmx        www.carmax.com   \n",
       "2                                       nyse:kmx        www.carmax.com   \n",
       "3                                       nyse:kmx        www.carmax.com   \n",
       "4                                       nyse:kmx        www.carmax.com   \n",
       "\n",
       "                                                 url              as_of_date  \\\n",
       "0  http://www.carmax.com/enus/view-car/default.ht...  2015-10-05 04:00:00+00   \n",
       "1  http://www.carmax.com/enus/view-car/default.ht...  2015-10-05 04:00:00+00   \n",
       "2  http://www.carmax.com/enus/view-car/default.ht...  2015-10-05 04:00:00+00   \n",
       "3  http://www.carmax.com/enus/view-car/default.ht...  2015-10-05 04:00:00+00   \n",
       "4  http://www.carmax.com/enus/view-car/default.ht...  2015-10-05 04:00:00+00   \n",
       "\n",
       "           domain                     date_added  price price_currency  \\\n",
       "0  www.carmax.com  2015-10-06 00:08:10.173641+00  21599            USD   \n",
       "1  www.carmax.com  2015-10-06 00:16:02.818833+00  14599            USD   \n",
       "2  www.carmax.com  2015-10-06 00:08:10.183941+00  33998            USD   \n",
       "3  www.carmax.com  2015-10-06 00:16:02.822888+00  19599            USD   \n",
       "4  www.carmax.com  2015-10-06 00:08:10.194298+00  14998            USD   \n",
       "\n",
       "                                           image  \\\n",
       "0  http://img2.carmax.com/image/12346985/216/162   \n",
       "1  http://img2.carmax.com/image/12377212/216/162   \n",
       "2  http://img2.carmax.com/image/12141829/216/162   \n",
       "3  http://img2.carmax.com/image/12271909/216/162   \n",
       "4  http://img2.carmax.com/image/11951142/216/162   \n",
       "\n",
       "  vehicle_identification_number  \\\n",
       "0                           NaN   \n",
       "1                           NaN   \n",
       "2                           NaN   \n",
       "3                           NaN   \n",
       "4                           NaN   \n",
       "\n",
       "                            ...                                   model  \\\n",
       "0                           ...                                     TSX   \n",
       "1                           ...                                 Dart SE   \n",
       "2                           ...                              FJ Cruiser   \n",
       "3                           ...                                Camry SE   \n",
       "4                           ...                             Accord EX-L   \n",
       "\n",
       "  mileage           region  stock_type location_url  location_name  \\\n",
       "0   16000     Columbia, SC         NaN          NaN            NaN   \n",
       "1   18000  Los Angeles, CA         NaN          NaN            NaN   \n",
       "2   18000      Houston, TX         NaN          NaN            NaN   \n",
       "3    5000  Tinley Park, IL         NaN          NaN            NaN   \n",
       "4   56000     Hillside, IL         NaN          NaN            NaN   \n",
       "\n",
       "  location_city location_postal  \\\n",
       "0           NaN             NaN   \n",
       "1           NaN             NaN   \n",
       "2           NaN             NaN   \n",
       "3           NaN             NaN   \n",
       "4           NaN             NaN   \n",
       "\n",
       "  dataset__entity__entity_ticker__ticker__market_sector  \\\n",
       "0                                  Consumer Services      \n",
       "1                                  Consumer Services      \n",
       "2                                  Consumer Services      \n",
       "3                                  Consumer Services      \n",
       "4                                  Consumer Services      \n",
       "\n",
       "   dataset__entity__entity_ticker__ticker__market_industry  \n",
       "0                                  General Retailers        \n",
       "1                                  General Retailers        \n",
       "2                                  General Retailers        \n",
       "3                                  General Retailers        \n",
       "4                                  General Retailers        \n",
       "\n",
       "[5 rows x 22 columns]"
      ]
     },
     "execution_count": 11,
     "metadata": {},
     "output_type": "execute_result"
    }
   ],
   "source": [
    "dframe.head()"
   ]
  },
  {
   "cell_type": "markdown",
   "metadata": {},
   "source": [
    "### - Dropping Unnecessary columns -"
   ]
  },
  {
   "cell_type": "code",
   "execution_count": 12,
   "metadata": {},
   "outputs": [
    {
     "data": {
      "text/plain": [
       "Index(['dataset__entity__entity_ticker__ticker__ticker',\n",
       "       'dataset__entity__name', 'url', 'as_of_date', 'domain', 'date_added',\n",
       "       'price', 'price_currency', 'image', 'vehicle_identification_number',\n",
       "       'year', 'make', 'model', 'mileage', 'region', 'stock_type',\n",
       "       'location_url', 'location_name', 'location_city', 'location_postal',\n",
       "       'dataset__entity__entity_ticker__ticker__market_sector',\n",
       "       'dataset__entity__entity_ticker__ticker__market_industry'],\n",
       "      dtype='object')"
      ]
     },
     "execution_count": 12,
     "metadata": {},
     "output_type": "execute_result"
    }
   ],
   "source": [
    "dframe.columns"
   ]
  },
  {
   "cell_type": "code",
   "execution_count": 13,
   "metadata": {
    "collapsed": true
   },
   "outputs": [],
   "source": [
    "dframe.drop(['dataset__entity__entity_ticker__ticker__ticker',\n",
    "             'dataset__entity__name', 'url', 'domain', 'price_currency',\n",
    "            'image', 'vehicle_identification_number', 'stock_type',\n",
    "             'location_url', 'location_name', 'location_city',\n",
    "             'location_postal', 'dataset__entity__entity_ticker__ticker__market_sector',\n",
    "             'dataset__entity__entity_ticker__ticker__market_industry',\n",
    "             'as_of_date', 'date_added'\n",
    "            ], axis=1, inplace=True)"
   ]
  },
  {
   "cell_type": "markdown",
   "metadata": {},
   "source": [
    "### Plotting Correlation matrix graph"
   ]
  },
  {
   "cell_type": "code",
   "execution_count": 14,
   "metadata": {},
   "outputs": [
    {
     "data": {
      "text/plain": [
       "<matplotlib.axes._subplots.AxesSubplot at 0x12d34f122e8>"
      ]
     },
     "execution_count": 14,
     "metadata": {},
     "output_type": "execute_result"
    },
    {
     "data": {
      "image/png": "[encoded data removed]",
      "text/plain": [
       "<matplotlib.figure.Figure at 0x12d34f12d68>"
      ]
     },
     "metadata": {},
     "output_type": "display_data"
    }
   ],
   "source": [
    "corrMatt = dframe.corr()\n",
    "mask = np.array(corrMatt)\n",
    "mask[np.tril_indices_from(mask)] = False\n",
    "fig,ax= plt.subplots()\n",
    "sns.heatmap(corrMatt, mask=mask,vmax=.8, square=True,annot=True)"
   ]
  },
  {
   "cell_type": "markdown",
   "metadata": {},
   "source": [
    "### Cleansed dataset for prediction"
   ]
  },
  {
   "cell_type": "code",
   "execution_count": 15,
   "metadata": {},
   "outputs": [
    {
     "data": {
      "text/html": [
       "<div>\n",
       "<style>\n",
       "    .dataframe thead tr:only-child th {\n",
       "        text-align: right;\n",
       "    }\n",
       "\n",
       "    .dataframe thead th {\n",
       "        text-align: left;\n",
       "    }\n",
       "\n",
       "    .dataframe tbody tr th {\n",
       "        vertical-align: top;\n",
       "    }\n",
       "</style>\n",
       "<table border=\"1\" class=\"dataframe\">\n",
       "  <thead>\n",
       "    <tr style=\"text-align: right;\">\n",
       "      <th></th>\n",
       "      <th>price</th>\n",
       "      <th>year</th>\n",
       "      <th>make</th>\n",
       "      <th>model</th>\n",
       "      <th>mileage</th>\n",
       "      <th>region</th>\n",
       "    </tr>\n",
       "  </thead>\n",
       "  <tbody>\n",
       "    <tr>\n",
       "      <th>0</th>\n",
       "      <td>21599</td>\n",
       "      <td>2012</td>\n",
       "      <td>Acura</td>\n",
       "      <td>TSX</td>\n",
       "      <td>16000</td>\n",
       "      <td>Columbia, SC</td>\n",
       "    </tr>\n",
       "    <tr>\n",
       "      <th>1</th>\n",
       "      <td>14599</td>\n",
       "      <td>2013</td>\n",
       "      <td>Dodge</td>\n",
       "      <td>Dart SE</td>\n",
       "      <td>18000</td>\n",
       "      <td>Los Angeles, CA</td>\n",
       "    </tr>\n",
       "    <tr>\n",
       "      <th>2</th>\n",
       "      <td>33998</td>\n",
       "      <td>2014</td>\n",
       "      <td>Toyota</td>\n",
       "      <td>FJ Cruiser</td>\n",
       "      <td>18000</td>\n",
       "      <td>Houston, TX</td>\n",
       "    </tr>\n",
       "    <tr>\n",
       "      <th>3</th>\n",
       "      <td>19599</td>\n",
       "      <td>2014</td>\n",
       "      <td>Toyota</td>\n",
       "      <td>Camry SE</td>\n",
       "      <td>5000</td>\n",
       "      <td>Tinley Park, IL</td>\n",
       "    </tr>\n",
       "    <tr>\n",
       "      <th>4</th>\n",
       "      <td>14998</td>\n",
       "      <td>2009</td>\n",
       "      <td>Honda</td>\n",
       "      <td>Accord EX-L</td>\n",
       "      <td>56000</td>\n",
       "      <td>Hillside, IL</td>\n",
       "    </tr>\n",
       "  </tbody>\n",
       "</table>\n",
       "</div>"
      ],
      "text/plain": [
       "   price  year    make        model  mileage           region\n",
       "0  21599  2012   Acura          TSX    16000     Columbia, SC\n",
       "1  14599  2013   Dodge      Dart SE    18000  Los Angeles, CA\n",
       "2  33998  2014  Toyota   FJ Cruiser    18000      Houston, TX\n",
       "3  19599  2014  Toyota     Camry SE     5000  Tinley Park, IL\n",
       "4  14998  2009   Honda  Accord EX-L    56000     Hillside, IL"
      ]
     },
     "execution_count": 15,
     "metadata": {},
     "output_type": "execute_result"
    }
   ],
   "source": [
    "dframe.head()"
   ]
  },
  {
   "cell_type": "markdown",
   "metadata": {},
   "source": [
    "### Checking for null Values\n",
    "- Null values can be imputed, if present. In this case, no null values are found"
   ]
  },
  {
   "cell_type": "code",
   "execution_count": 16,
   "metadata": {},
   "outputs": [
    {
     "data": {
      "text/plain": [
       "price      False\n",
       "year       False\n",
       "make       False\n",
       "model      False\n",
       "mileage    False\n",
       "region     False\n",
       "dtype: bool"
      ]
     },
     "execution_count": 16,
     "metadata": {},
     "output_type": "execute_result"
    }
   ],
   "source": [
    "dframe.isnull().any()"
   ]
  },
  {
   "cell_type": "markdown",
   "metadata": {},
   "source": [
    "### Which company make expensive cars?"
   ]
  },
  {
   "cell_type": "code",
   "execution_count": 17,
   "metadata": {},
   "outputs": [
    {
     "data": {
      "text/plain": [
       "[]"
      ]
     },
     "execution_count": 17,
     "metadata": {},
     "output_type": "execute_result"
    },
    {
     "data": {
      "image/png": "[encoded data removed]",
      "text/plain": [
       "<matplotlib.figure.Figure at 0x12d3b525c88>"
      ]
     },
     "metadata": {},
     "output_type": "display_data"
    }
   ],
   "source": [
    "fig, ax = plt.subplots(figsize=(15,15))\n",
    "g=sns.barplot(x=\"make\", y=\"price\", data=dframe, ci=None, ax=ax)\n",
    "g.set_xticklabels(g.get_xticklabels(), rotation=90)\n",
    "g.plot()"
   ]
  },
  {
   "cell_type": "markdown",
   "metadata": {},
   "source": [
    "### Trend of Price throughout years"
   ]
  },
  {
   "cell_type": "code",
   "execution_count": 18,
   "metadata": {},
   "outputs": [
    {
     "data": {
      "text/plain": [
       "<seaborn.axisgrid.FacetGrid at 0x12d2fa3feb8>"
      ]
     },
     "execution_count": 18,
     "metadata": {},
     "output_type": "execute_result"
    },
    {
     "data": {
      "image/png": "[encoded data removed]",
      "text/plain": [
       "<matplotlib.figure.Figure at 0x12d345c1588>"
      ]
     },
     "metadata": {},
     "output_type": "display_data"
    }
   ],
   "source": [
    "sns.factorplot(x=\"year\", y=\"price\", data=dframe, size=4, aspect=2)"
   ]
  },
  {
   "cell_type": "markdown",
   "metadata": {},
   "source": [
    "### Feature Extraction:\n",
    "- converting records to dictionary like {\"year\": 2015, \"make\":\"toyota\", \"mileage\":22000, \"region\":\"Columbia, SC\"}<br>\n",
    "    we are converting records to dictionary to feed into Feature Hasher\n",
    "- What does Feature Hasher do?<br>\n",
    "    This class turns sequences of symbolic feature names (strings) into scipy.sparse matrices, using a hash function to compute the matrix column corresponding to a name. The hash function employed is the signed 32-bit version of Murmurhash3.\n",
    "- Training and Test Data split<br>\n",
    "    Training Data Size: 70%<br>\n",
    "    Test Data Size: 30%"
   ]
  },
  {
   "cell_type": "code",
   "execution_count": 19,
   "metadata": {
    "collapsed": true
   },
   "outputs": [],
   "source": [
    "records_x = dframe.drop('price', axis=1).to_dict('records')\n",
    "records_y = dframe.price.tolist()"
   ]
  },
  {
   "cell_type": "code",
   "execution_count": 20,
   "metadata": {
    "collapsed": true
   },
   "outputs": [],
   "source": [
    "x_train, x_test, y_train, y_test = train_test_split(records_x, records_y, test_size=0.3, random_state=0)"
   ]
  },
  {
   "cell_type": "code",
   "execution_count": 21,
   "metadata": {},
   "outputs": [
    {
     "data": {
      "text/plain": [
       "FeatureHasher(alternate_sign=True, dtype=<class 'numpy.float64'>,\n",
       "       input_type='dict', n_features=1048576, non_negative=False)"
      ]
     },
     "execution_count": 21,
     "metadata": {},
     "output_type": "execute_result"
    }
   ],
   "source": [
    "vectorizer = FeatureHasher()\n",
    "vectorizer.fit(x_train)"
   ]
  },
  {
   "cell_type": "code",
   "execution_count": 22,
   "metadata": {
    "collapsed": true
   },
   "outputs": [],
   "source": [
    "records_x_trans = vectorizer.fit_transform(x_train)"
   ]
  },
  {
   "cell_type": "markdown",
   "metadata": {},
   "source": [
    "### Model Fitting\n",
    "- In this notebook, we have implemented model fitting via <b>Linear Regression</b>"
   ]
  },
  {
   "cell_type": "code",
   "execution_count": 28,
   "metadata": {},
   "outputs": [
    {
     "data": {
      "text/plain": [
       "LinearRegression(copy_X=True, fit_intercept=True, n_jobs=1, normalize=True)"
      ]
     },
     "execution_count": 28,
     "metadata": {},
     "output_type": "execute_result"
    }
   ],
   "source": [
    "regressor = LinearRegression(normalize=True)\n",
    "regressor.fit(records_x_trans, y_train)"
   ]
  },
  {
   "cell_type": "code",
   "execution_count": 29,
   "metadata": {
    "collapsed": true
   },
   "outputs": [],
   "source": [
    "y_pred = regressor.predict(vectorizer.transform(x_test))\n",
    "y_true = y_test"
   ]
  },
  {
   "cell_type": "markdown",
   "metadata": {},
   "source": [
    "#### Regression Score is neagtive is clear indication of bias. "
   ]
  },
  {
   "cell_type": "code",
   "execution_count": 33,
   "metadata": {},
   "outputs": [
    {
     "data": {
      "text/plain": [
       "-18.145093165776395"
      ]
     },
     "execution_count": 33,
     "metadata": {},
     "output_type": "execute_result"
    }
   ],
   "source": [
    "regressor.score(vectorizer.transform(x_test), y_test)"
   ]
  },
  {
   "cell_type": "code",
   "execution_count": 31,
   "metadata": {},
   "outputs": [
    {
     "name": "stdout",
     "output_type": "stream",
     "text": [
      "Mean squared error: 1228429862.49\n",
      "Variance score: 0.05\n"
     ]
    }
   ],
   "source": [
    "# The mean squared error\n",
    "print(\"Mean squared error: %.2f\"\n",
    "      % mean_squared_error(y_pred, y_true))\n",
    "# Explained variance score: 1 is perfect prediction\n",
    "print('Variance score: %.2f' % r2_score(y_pred, y_true))"
   ]
  },
  {
   "cell_type": "markdown",
   "metadata": {
    "collapsed": true
   },
   "source": [
    "Conclusion Notes:<br>\n",
    "- Bias and Variance tradoff is obvious if implementing Linear Regression on Non-Linear dataset\n",
    "- Without normalizing the dataset, Variance will increase else Bias will! That's why Bias-Variance tradoff exists\n",
    "- Recommended Regression Trees on Non-Linear Dataset, RegressionTrees may give good results on this dataset."
   ]
  },
  {
   "cell_type": "code",
   "execution_count": null,
   "metadata": {
    "collapsed": true
   },
   "outputs": [],
   "source": []
  }
 ],
 "metadata": {
  "kernelspec": {
   "display_name": "Python 3",
   "language": "python",
   "name": "python3"
  },
  "language_info": {
   "codemirror_mode": {
    "name": "ipython",
    "version": 3
   },
   "file_extension": ".py",
   "mimetype": "text/x-python",
   "name": "python",
   "nbconvert_exporter": "python",
   "pygments_lexer": "ipython3",
   "version": "3.6.3"
  }
 },
 "nbformat": 4,
 "nbformat_minor": 2
}

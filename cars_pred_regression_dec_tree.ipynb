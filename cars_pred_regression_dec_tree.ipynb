{
 "cells": [
  {
   "cell_type": "code",
   "execution_count": 15,
   "metadata": {
    "_cell_guid": "abdd3f64-d35f-4f3d-a4f7-35fcf022e8b4",
    "_uuid": "1c76efaad606830d99ce61a85c4eb1d28223cdd9",
    "collapsed": true
   },
   "outputs": [],
   "source": [
    "import pandas as pd\n",
    "import numpy as np\n",
    "import matplotlib.pyplot as plt\n",
    "import seaborn as sns\n",
    "from sklearn.feature_extraction import FeatureHasher\n",
    "from sklearn.model_selection import train_test_split\n",
    "from sklearn.linear_model import LinearRegression\n",
    "from sklearn.tree import DecisionTreeRegressor\n",
    "from sklearn.metrics import accuracy_score, mean_squared_error, r2_score\n",
    "%matplotlib inline"
   ]
  },
  {
   "cell_type": "code",
   "execution_count": 2,
   "metadata": {
    "_cell_guid": "c86844d2-ccea-4ca0-9004-672f691e389a",
    "_uuid": "7f2e5bd6dfaf3b6e798ee7b4e980ef6e0ff74826",
    "collapsed": true
   },
   "outputs": [],
   "source": [
    "dframe = pd.read_csv(\"../input/cars_dataset.csv\")"
   ]
  },
  {
   "cell_type": "code",
   "execution_count": 3,
   "metadata": {
    "_cell_guid": "81168890-04cc-43ee-98cf-a08336be3002",
    "_uuid": "2581df30a0cf7ba789ea2b017bdad31af51a80b0"
   },
   "outputs": [
    {
     "data": {
      "text/html": [
       "<div>\n",
       "<style>\n",
       "    .dataframe thead tr:only-child th {\n",
       "        text-align: right;\n",
       "    }\n",
       "\n",
       "    .dataframe thead th {\n",
       "        text-align: left;\n",
       "    }\n",
       "\n",
       "    .dataframe tbody tr th {\n",
       "        vertical-align: top;\n",
       "    }\n",
       "</style>\n",
       "<table border=\"1\" class=\"dataframe\">\n",
       "  <thead>\n",
       "    <tr style=\"text-align: right;\">\n",
       "      <th></th>\n",
       "      <th>Unnamed: 0</th>\n",
       "      <th>price</th>\n",
       "      <th>year</th>\n",
       "      <th>make</th>\n",
       "      <th>model</th>\n",
       "      <th>mileage</th>\n",
       "      <th>region</th>\n",
       "    </tr>\n",
       "  </thead>\n",
       "  <tbody>\n",
       "    <tr>\n",
       "      <th>0</th>\n",
       "      <td>0</td>\n",
       "      <td>21599</td>\n",
       "      <td>2012</td>\n",
       "      <td>Acura</td>\n",
       "      <td>TSX</td>\n",
       "      <td>16000</td>\n",
       "      <td>Columbia, SC</td>\n",
       "    </tr>\n",
       "    <tr>\n",
       "      <th>1</th>\n",
       "      <td>1</td>\n",
       "      <td>14599</td>\n",
       "      <td>2013</td>\n",
       "      <td>Dodge</td>\n",
       "      <td>Dart SE</td>\n",
       "      <td>18000</td>\n",
       "      <td>Los Angeles, CA</td>\n",
       "    </tr>\n",
       "    <tr>\n",
       "      <th>2</th>\n",
       "      <td>2</td>\n",
       "      <td>33998</td>\n",
       "      <td>2014</td>\n",
       "      <td>Toyota</td>\n",
       "      <td>FJ Cruiser</td>\n",
       "      <td>18000</td>\n",
       "      <td>Houston, TX</td>\n",
       "    </tr>\n",
       "    <tr>\n",
       "      <th>3</th>\n",
       "      <td>3</td>\n",
       "      <td>19599</td>\n",
       "      <td>2014</td>\n",
       "      <td>Toyota</td>\n",
       "      <td>Camry SE</td>\n",
       "      <td>5000</td>\n",
       "      <td>Tinley Park, IL</td>\n",
       "    </tr>\n",
       "    <tr>\n",
       "      <th>4</th>\n",
       "      <td>4</td>\n",
       "      <td>14998</td>\n",
       "      <td>2009</td>\n",
       "      <td>Honda</td>\n",
       "      <td>Accord EX-L</td>\n",
       "      <td>56000</td>\n",
       "      <td>Hillside, IL</td>\n",
       "    </tr>\n",
       "  </tbody>\n",
       "</table>\n",
       "</div>"
      ],
      "text/plain": [
       "   Unnamed: 0  price  year    make        model  mileage           region\n",
       "0           0  21599  2012   Acura          TSX    16000     Columbia, SC\n",
       "1           1  14599  2013   Dodge      Dart SE    18000  Los Angeles, CA\n",
       "2           2  33998  2014  Toyota   FJ Cruiser    18000      Houston, TX\n",
       "3           3  19599  2014  Toyota     Camry SE     5000  Tinley Park, IL\n",
       "4           4  14998  2009   Honda  Accord EX-L    56000     Hillside, IL"
      ]
     },
     "execution_count": 3,
     "metadata": {},
     "output_type": "execute_result"
    }
   ],
   "source": [
    "dframe.head()"
   ]
  },
  {
   "cell_type": "code",
   "execution_count": 4,
   "metadata": {
    "_cell_guid": "6d4f374e-99bf-4ff7-8ff4-d0b04428a9f9",
    "_uuid": "53b3182791f1c3ddd40b79b54075d5a103374d13"
   },
   "outputs": [
    {
     "data": {
      "text/plain": [
       "Index(['Unnamed: 0', 'price', 'year', 'make', 'model', 'mileage', 'region'], dtype='object')"
      ]
     },
     "execution_count": 4,
     "metadata": {},
     "output_type": "execute_result"
    }
   ],
   "source": [
    "dframe.columns"
   ]
  },
  {
   "cell_type": "code",
   "execution_count": 5,
   "metadata": {
    "_cell_guid": "b4ec27d5-07e5-4752-998d-ba4a430e7cdc",
    "_uuid": "b3e90fc413c2a567323f76c1002f134cc16eb526",
    "collapsed": true
   },
   "outputs": [],
   "source": [
    "dframe.drop(['Unnamed: 0'], axis=1, inplace=True)"
   ]
  },
  {
   "cell_type": "code",
   "execution_count": 6,
   "metadata": {
    "_cell_guid": "4397e427-c4ca-4378-8a95-401698ea5b5d",
    "_uuid": "71edb22430a4fe472baaa11c24b195dbf5ea010a"
   },
   "outputs": [
    {
     "data": {
      "text/html": [
       "<div>\n",
       "<style>\n",
       "    .dataframe thead tr:only-child th {\n",
       "        text-align: right;\n",
       "    }\n",
       "\n",
       "    .dataframe thead th {\n",
       "        text-align: left;\n",
       "    }\n",
       "\n",
       "    .dataframe tbody tr th {\n",
       "        vertical-align: top;\n",
       "    }\n",
       "</style>\n",
       "<table border=\"1\" class=\"dataframe\">\n",
       "  <thead>\n",
       "    <tr style=\"text-align: right;\">\n",
       "      <th></th>\n",
       "      <th>price</th>\n",
       "      <th>year</th>\n",
       "      <th>make</th>\n",
       "      <th>model</th>\n",
       "      <th>mileage</th>\n",
       "      <th>region</th>\n",
       "    </tr>\n",
       "  </thead>\n",
       "  <tbody>\n",
       "    <tr>\n",
       "      <th>0</th>\n",
       "      <td>21599</td>\n",
       "      <td>2012</td>\n",
       "      <td>Acura</td>\n",
       "      <td>TSX</td>\n",
       "      <td>16000</td>\n",
       "      <td>Columbia, SC</td>\n",
       "    </tr>\n",
       "    <tr>\n",
       "      <th>1</th>\n",
       "      <td>14599</td>\n",
       "      <td>2013</td>\n",
       "      <td>Dodge</td>\n",
       "      <td>Dart SE</td>\n",
       "      <td>18000</td>\n",
       "      <td>Los Angeles, CA</td>\n",
       "    </tr>\n",
       "    <tr>\n",
       "      <th>2</th>\n",
       "      <td>33998</td>\n",
       "      <td>2014</td>\n",
       "      <td>Toyota</td>\n",
       "      <td>FJ Cruiser</td>\n",
       "      <td>18000</td>\n",
       "      <td>Houston, TX</td>\n",
       "    </tr>\n",
       "    <tr>\n",
       "      <th>3</th>\n",
       "      <td>19599</td>\n",
       "      <td>2014</td>\n",
       "      <td>Toyota</td>\n",
       "      <td>Camry SE</td>\n",
       "      <td>5000</td>\n",
       "      <td>Tinley Park, IL</td>\n",
       "    </tr>\n",
       "    <tr>\n",
       "      <th>4</th>\n",
       "      <td>14998</td>\n",
       "      <td>2009</td>\n",
       "      <td>Honda</td>\n",
       "      <td>Accord EX-L</td>\n",
       "      <td>56000</td>\n",
       "      <td>Hillside, IL</td>\n",
       "    </tr>\n",
       "  </tbody>\n",
       "</table>\n",
       "</div>"
      ],
      "text/plain": [
       "   price  year    make        model  mileage           region\n",
       "0  21599  2012   Acura          TSX    16000     Columbia, SC\n",
       "1  14599  2013   Dodge      Dart SE    18000  Los Angeles, CA\n",
       "2  33998  2014  Toyota   FJ Cruiser    18000      Houston, TX\n",
       "3  19599  2014  Toyota     Camry SE     5000  Tinley Park, IL\n",
       "4  14998  2009   Honda  Accord EX-L    56000     Hillside, IL"
      ]
     },
     "execution_count": 6,
     "metadata": {},
     "output_type": "execute_result"
    }
   ],
   "source": [
    "dframe.head()"
   ]
  },
  {
   "cell_type": "code",
   "execution_count": 7,
   "metadata": {
    "_cell_guid": "b27652f8-c28f-4518-bf6c-1313fc89fc45",
    "_uuid": "e02ce6244e5e1d7554f414310ee6b172a1c62e2b"
   },
   "outputs": [
    {
     "data": {
      "text/plain": [
       "[]"
      ]
     },
     "execution_count": 7,
     "metadata": {},
     "output_type": "execute_result"
    },
    {
     "data": {
      "image/png": "[encoded data removed]",
      "text/plain": [
       "<matplotlib.figure.Figure at 0x7fd22af4f240>"
      ]
     },
     "metadata": {},
     "output_type": "display_data"
    }
   ],
   "source": [
    "fig, ax = plt.subplots(figsize=(15,15))\n",
    "g=sns.barplot(x=\"make\", y=\"price\", data=dframe, ci=None, ax=ax)\n",
    "g.set_xticklabels(g.get_xticklabels(), rotation=90)\n",
    "g.plot()"
   ]
  },
  {
   "cell_type": "code",
   "execution_count": 8,
   "metadata": {
    "_cell_guid": "bafd4bdb-f699-46ec-9b44-0c14635c8530",
    "_uuid": "b3317c5dfcc21d158affee59e2345fbf108df68f"
   },
   "outputs": [
    {
     "data": {
      "text/plain": [
       "<seaborn.axisgrid.FacetGrid at 0x7fd2271fa6d8>"
      ]
     },
     "execution_count": 8,
     "metadata": {},
     "output_type": "execute_result"
    },
    {
     "data": {
      "image/png": "[encoded data removed]",
      "text/plain": [
       "<matplotlib.figure.Figure at 0x7fd227202400>"
      ]
     },
     "metadata": {},
     "output_type": "display_data"
    }
   ],
   "source": [
    "sns.factorplot(x=\"year\", y=\"price\", data=dframe, size=4, aspect=2)"
   ]
  },
  {
   "cell_type": "code",
   "execution_count": 9,
   "metadata": {
    "_cell_guid": "c2ce66c5-6aa7-487c-9cf3-98ac22afdb35",
    "_uuid": "c9482f18c028cc81c758d29f237838d82cda61cf"
   },
   "outputs": [
    {
     "data": {
      "text/plain": [
       "<matplotlib.axes._subplots.AxesSubplot at 0x7fd22706df60>"
      ]
     },
     "execution_count": 9,
     "metadata": {},
     "output_type": "execute_result"
    },
    {
     "data": {
      "image/png": "[encoded data removed]",
      "text/plain": [
       "<matplotlib.figure.Figure at 0x7fd294104898>"
      ]
     },
     "metadata": {},
     "output_type": "display_data"
    }
   ],
   "source": [
    "corrMatt = dframe.corr()\n",
    "mask = np.array(corrMatt)\n",
    "mask[np.tril_indices_from(mask)] = False\n",
    "fig,ax= plt.subplots()\n",
    "sns.heatmap(corrMatt, mask=mask,vmax=.8, square=True,annot=True)"
   ]
  },
  {
   "cell_type": "code",
   "execution_count": 10,
   "metadata": {
    "_cell_guid": "079db3c2-138e-4bf6-b594-75ad1fb13e2b",
    "_uuid": "fb07c6b41fabff145085c391b8e1b85153515b76"
   },
   "outputs": [
    {
     "data": {
      "text/plain": [
       "price      False\n",
       "year       False\n",
       "make       False\n",
       "model      False\n",
       "mileage    False\n",
       "region     False\n",
       "dtype: bool"
      ]
     },
     "execution_count": 10,
     "metadata": {},
     "output_type": "execute_result"
    }
   ],
   "source": [
    "dframe.isnull().any()"
   ]
  },
  {
   "cell_type": "code",
   "execution_count": 11,
   "metadata": {
    "_cell_guid": "c3ab4061-9f49-4fb1-92c6-5f91d9a7571d",
    "_uuid": "f40ec310b79c23e95dc5f90dcf1d52fa18f5ba0d",
    "collapsed": true
   },
   "outputs": [],
   "source": [
    "records_x = dframe.drop('price', axis=1).to_dict('records')\n",
    "records_y = dframe.price.tolist()"
   ]
  },
  {
   "cell_type": "code",
   "execution_count": 12,
   "metadata": {
    "_cell_guid": "9a6ba599-62cb-44af-b36e-bd0329667c7f",
    "_uuid": "326ee7a51e32770bfc82037fdbb37dcd0297e92b",
    "collapsed": true
   },
   "outputs": [],
   "source": [
    "x_train, x_test, y_train, y_test = train_test_split(records_x, records_y, test_size=0.3, random_state=0)"
   ]
  },
  {
   "cell_type": "code",
   "execution_count": 13,
   "metadata": {
    "_cell_guid": "bb61b8b1-9492-4f73-b627-1ded4230ea05",
    "_uuid": "22f15a5db1fbbb3b386525b866b75dec2383cbea"
   },
   "outputs": [
    {
     "data": {
      "text/plain": [
       "FeatureHasher(alternate_sign=True, dtype=<class 'numpy.float64'>,\n",
       "       input_type='dict', n_features=1048576, non_negative=False)"
      ]
     },
     "execution_count": 13,
     "metadata": {},
     "output_type": "execute_result"
    }
   ],
   "source": [
    "vectorizer = FeatureHasher()\n",
    "vectorizer.fit(x_train)"
   ]
  },
  {
   "cell_type": "code",
   "execution_count": 14,
   "metadata": {
    "_cell_guid": "3680e2ae-9ebd-4bff-92dd-02ea1d264dfb",
    "_uuid": "e3abad46880d43ad67169463ef224204d15bcd89",
    "collapsed": true
   },
   "outputs": [],
   "source": [
    "records_x_trans = vectorizer.transform(x_train)"
   ]
  },
  {
   "cell_type": "code",
   "execution_count": 16,
   "metadata": {
    "_cell_guid": "e8a4af42-d33f-4be3-a319-469c0f709b28",
    "_uuid": "de0859edf74cd2792a0eb8e8516978c75fe1fe5f"
   },
   "outputs": [
    {
     "data": {
      "text/plain": [
       "DecisionTreeRegressor(criterion='mse', max_depth=None, max_features=None,\n",
       "           max_leaf_nodes=None, min_impurity_decrease=0.0,\n",
       "           min_impurity_split=None, min_samples_leaf=1,\n",
       "           min_samples_split=2, min_weight_fraction_leaf=0.0,\n",
       "           presort=False, random_state=None, splitter='best')"
      ]
     },
     "execution_count": 16,
     "metadata": {},
     "output_type": "execute_result"
    }
   ],
   "source": [
    "regressor = DecisionTreeRegressor()\n",
    "regressor.fit(records_x_trans, y_train)"
   ]
  },
  {
   "cell_type": "code",
   "execution_count": 17,
   "metadata": {
    "_cell_guid": "0442d42b-9f74-4694-bde9-78684da65642",
    "_uuid": "3a408cc1aed399ed177b6e8f8f9359c156cb6475"
   },
   "outputs": [
    {
     "data": {
      "text/plain": [
       "0.95470717448888975"
      ]
     },
     "execution_count": 17,
     "metadata": {},
     "output_type": "execute_result"
    }
   ],
   "source": [
    "regressor.score(vectorizer.transform(x_test), y_test)"
   ]
  },
  {
   "cell_type": "code",
   "execution_count": 18,
   "metadata": {
    "_cell_guid": "0ef7ffc2-bd4b-44aa-bb09-ab2de849c414",
    "_uuid": "0db22a1d307f229e4b694a5386afb63fd26f20ba"
   },
   "outputs": [
    {
     "data": {
      "text/plain": [
       "[<matplotlib.lines.Line2D at 0x7fd223b9cf28>]"
      ]
     },
     "execution_count": 18,
     "metadata": {},
     "output_type": "execute_result"
    },
    {
     "data": {
      "image/png": "[encoded data removed]",
      "text/plain": [
       "<matplotlib.figure.Figure at 0x7fd22408db38>"
      ]
     },
     "metadata": {},
     "output_type": "display_data"
    }
   ],
   "source": [
    "plt.plot(range(len(y_test)), y_test)"
   ]
  },
  {
   "cell_type": "code",
   "execution_count": 20,
   "metadata": {
    "_uuid": "d0cd6eab0aa4642d5797c1985cefb937a88133af",
    "collapsed": true
   },
   "outputs": [],
   "source": [
    "y_pred=regressor.predict(vectorizer.transform(x_test))\n",
    "y_true=y_test"
   ]
  },
  {
   "cell_type": "code",
   "execution_count": 21,
   "metadata": {
    "_cell_guid": "68185b24-777e-477b-86f1-5fb3fe6a12d1",
    "_uuid": "7df2150fe3b2a7e67861d026a7e5226da8652cc4"
   },
   "outputs": [
    {
     "data": {
      "text/plain": [
       "[<matplotlib.lines.Line2D at 0x7fd223b4acc0>]"
      ]
     },
     "execution_count": 21,
     "metadata": {},
     "output_type": "execute_result"
    },
    {
     "data": {
      "image/png": "[encoded data removed]",
      "text/plain": [
       "<matplotlib.figure.Figure at 0x7fd223bb1a58>"
      ]
     },
     "metadata": {},
     "output_type": "display_data"
    }
   ],
   "source": [
    "plt.plot(range(len(y_pred)), y_pred)"
   ]
  },
  {
   "cell_type": "code",
   "execution_count": 22,
   "metadata": {
    "_cell_guid": "3d9d83ad-b5f8-4cf9-bf29-9f9236268522",
    "_uuid": "213a5c71d8330817487618290f2791e14b66f67e"
   },
   "outputs": [
    {
     "name": "stdout",
     "output_type": "stream",
     "text": [
      "Mean squared error: 2906178.57\n",
      "Variance score: 0.95\n"
     ]
    }
   ],
   "source": [
    "# The mean squared error\n",
    "print(\"Mean squared error: %.2f\"\n",
    "      % mean_squared_error(y_pred, y_true))\n",
    "# Explained variance score: 1 is perfect prediction\n",
    "print('Variance score: %.2f' % r2_score(y_pred, y_true))"
   ]
  },
  {
   "cell_type": "code",
   "execution_count": null,
   "metadata": {
    "_cell_guid": "5861f848-42c1-411a-878d-f9cb786b79b7",
    "_uuid": "5ffda3c5b1a2beb68de06cd18c5283537d9b7f66",
    "collapsed": true
   },
   "outputs": [],
   "source": []
  }
 ],
 "metadata": {
  "kernelspec": {
   "display_name": "Python 3",
   "language": "python",
   "name": "python3"
  },
  "language_info": {
   "codemirror_mode": {
    "name": "ipython",
    "version": 3
   },
   "file_extension": ".py",
   "mimetype": "text/x-python",
   "name": "python",
   "nbconvert_exporter": "python",
   "pygments_lexer": "ipython3",
   "version": "3.6.3"
  }
 },
 "nbformat": 4,
 "nbformat_minor": 1
}
